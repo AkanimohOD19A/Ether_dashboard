{
 "cells": [
  {
   "cell_type": "code",
   "execution_count": 1,
   "metadata": {},
   "outputs": [
    {
     "name": "stderr",
     "output_type": "stream",
     "text": [
      "C:\\Users\\PC\\Anaconda3\\lib\\site-packages\\requests\\__init__.py:91: RequestsDependencyWarning: urllib3 (1.26.10) or chardet (3.0.4) doesn't match a supported version!\n",
      "  RequestsDependencyWarning)\n"
     ]
    }
   ],
   "source": [
    "import pandas as pd\n",
    "import requests\n",
    "import seaborn as sns\n",
    "import matplotlib.pyplot as plt"
   ]
  },
  {
   "cell_type": "code",
   "execution_count": 2,
   "metadata": {},
   "outputs": [],
   "source": [
    "df = pd.read_csv('./daily_ens-data/2023-03-09.csv')"
   ]
  },
  {
   "cell_type": "code",
   "execution_count": 3,
   "metadata": {},
   "outputs": [
    {
     "data": {
      "text/html": [
       "<div>\n",
       "<style scoped>\n",
       "    .dataframe tbody tr th:only-of-type {\n",
       "        vertical-align: middle;\n",
       "    }\n",
       "\n",
       "    .dataframe tbody tr th {\n",
       "        vertical-align: top;\n",
       "    }\n",
       "\n",
       "    .dataframe thead th {\n",
       "        text-align: right;\n",
       "    }\n",
       "</style>\n",
       "<table border=\"1\" class=\"dataframe\">\n",
       "  <thead>\n",
       "    <tr style=\"text-align: right;\">\n",
       "      <th></th>\n",
       "      <th>0</th>\n",
       "      <th>1</th>\n",
       "      <th>2</th>\n",
       "      <th>3</th>\n",
       "      <th>4</th>\n",
       "    </tr>\n",
       "  </thead>\n",
       "  <tbody>\n",
       "    <tr>\n",
       "      <th>ens_name</th>\n",
       "      <td>yooka.eth</td>\n",
       "      <td>pasealxyz.eth</td>\n",
       "      <td>supermercadonow.eth</td>\n",
       "      <td>gweillionaire.eth</td>\n",
       "      <td>uvlstudios.eth</td>\n",
       "    </tr>\n",
       "    <tr>\n",
       "      <th>registration_date</th>\n",
       "      <td>2023-03-09 09:39:59</td>\n",
       "      <td>2023-03-09 09:39:35</td>\n",
       "      <td>2023-03-09 09:34:59</td>\n",
       "      <td>2023-03-09 09:33:11</td>\n",
       "      <td>2023-03-09 09:32:47</td>\n",
       "    </tr>\n",
       "    <tr>\n",
       "      <th>registration_cost_ether</th>\n",
       "      <td>0.0162808</td>\n",
       "      <td>0.00325616</td>\n",
       "      <td>0.0162808</td>\n",
       "      <td>0.00325616</td>\n",
       "      <td>0.00325616</td>\n",
       "    </tr>\n",
       "    <tr>\n",
       "      <th>expiry_date</th>\n",
       "      <td>2028-03-08 14:45:59</td>\n",
       "      <td>2024-03-08 15:28:47</td>\n",
       "      <td>2028-03-08 14:40:59</td>\n",
       "      <td>2024-03-08 15:22:23</td>\n",
       "      <td>2024-03-08 15:21:59</td>\n",
       "    </tr>\n",
       "  </tbody>\n",
       "</table>\n",
       "</div>"
      ],
      "text/plain": [
       "                                           0                    1  \\\n",
       "ens_name                           yooka.eth        pasealxyz.eth   \n",
       "registration_date        2023-03-09 09:39:59  2023-03-09 09:39:35   \n",
       "registration_cost_ether            0.0162808           0.00325616   \n",
       "expiry_date              2028-03-08 14:45:59  2024-03-08 15:28:47   \n",
       "\n",
       "                                           2                    3  \\\n",
       "ens_name                 supermercadonow.eth    gweillionaire.eth   \n",
       "registration_date        2023-03-09 09:34:59  2023-03-09 09:33:11   \n",
       "registration_cost_ether            0.0162808           0.00325616   \n",
       "expiry_date              2028-03-08 14:40:59  2024-03-08 15:22:23   \n",
       "\n",
       "                                           4  \n",
       "ens_name                      uvlstudios.eth  \n",
       "registration_date        2023-03-09 09:32:47  \n",
       "registration_cost_ether           0.00325616  \n",
       "expiry_date              2024-03-08 15:21:59  "
      ]
     },
     "execution_count": 3,
     "metadata": {},
     "output_type": "execute_result"
    }
   ],
   "source": [
    "df.head().T"
   ]
  },
  {
   "cell_type": "code",
   "execution_count": 13,
   "metadata": {
    "collapsed": true
   },
   "outputs": [
    {
     "data": {
      "text/plain": [
       "2024-03-08 11:39:23    12\n",
       "2025-03-08 03:45:35    11\n",
       "2024-03-08 14:12:23     8\n",
       "2024-03-07 18:52:59     5\n",
       "2024-03-08 11:56:47     4\n",
       "2025-03-08 19:20:35     4\n",
       "2024-03-07 18:25:47     4\n",
       "2023-04-05 09:58:35     3\n",
       "2025-03-07 23:08:59     3\n",
       "2024-03-07 21:49:59     2\n",
       "2024-03-07 16:33:47     2\n",
       "2024-03-07 18:32:35     2\n",
       "2025-03-08 00:37:59     2\n",
       "2024-03-08 12:47:11     2\n",
       "2024-03-07 17:53:35     2\n",
       "2028-03-07 15:57:35     2\n",
       "2024-03-08 02:23:11     2\n",
       "2024-04-07 23:39:29     2\n",
       "2023-04-23 07:54:26     2\n",
       "2024-03-08 01:02:23     2\n",
       "2024-03-08 15:05:23     2\n",
       "2025-03-08 09:39:23     2\n",
       "2024-03-07 16:47:35     2\n",
       "2024-03-08 13:58:23     2\n",
       "2026-03-08 05:09:23     2\n",
       "2024-03-07 20:30:47     2\n",
       "2024-03-08 01:34:11     2\n",
       "2024-03-07 22:30:47     2\n",
       "2024-03-08 06:21:23     2\n",
       "2024-03-08 03:44:35     2\n",
       "                       ..\n",
       "2024-03-07 20:37:59     1\n",
       "2026-03-08 10:17:11     1\n",
       "2024-03-07 15:51:47     1\n",
       "2025-03-08 18:11:11     1\n",
       "2024-03-08 06:35:47     1\n",
       "2024-03-08 01:45:59     1\n",
       "2026-03-08 05:32:11     1\n",
       "2028-03-08 13:14:11     1\n",
       "2024-03-07 15:58:47     1\n",
       "2026-03-08 10:24:35     1\n",
       "2024-03-08 06:37:59     1\n",
       "2024-03-07 17:15:59     1\n",
       "2026-03-08 10:23:47     1\n",
       "2024-03-08 06:36:59     1\n",
       "2024-03-07 15:56:47     1\n",
       "2024-03-08 06:36:11     1\n",
       "2027-03-08 17:08:23     1\n",
       "2024-03-08 06:31:59     1\n",
       "2033-03-08 11:39:23     1\n",
       "2026-03-09 01:00:59     1\n",
       "2026-03-08 10:20:59     1\n",
       "2024-03-07 15:54:11     1\n",
       "2024-03-07 20:47:11     1\n",
       "2025-03-08 18:12:59     1\n",
       "2024-03-07 20:46:23     1\n",
       "2023-04-14 19:02:42     1\n",
       "2025-03-08 18:11:59     1\n",
       "2026-03-08 15:11:47     1\n",
       "2026-03-08 16:40:35     1\n",
       "2025-03-08 19:54:59     1\n",
       "Name: expiry_date, Length: 930, dtype: int64"
      ]
     },
     "execution_count": 13,
     "metadata": {},
     "output_type": "execute_result"
    }
   ],
   "source": [
    "df['expiry_date'].value_counts()"
   ]
  },
  {
   "cell_type": "code",
   "execution_count": 5,
   "metadata": {
    "collapsed": true
   },
   "outputs": [
    {
     "ename": "AttributeError",
     "evalue": "Can only use .dt accessor with datetimelike values",
     "output_type": "error",
     "traceback": [
      "\u001b[1;31m---------------------------------------------------------------------------\u001b[0m",
      "\u001b[1;31mAttributeError\u001b[0m                            Traceback (most recent call last)",
      "\u001b[1;32m<ipython-input-5-9209ef2baf5f>\u001b[0m in \u001b[0;36m<module>\u001b[1;34m\u001b[0m\n\u001b[1;32m----> 1\u001b[1;33m \u001b[0mdf\u001b[0m\u001b[1;33m[\u001b[0m\u001b[1;34m\"expiry_date\"\u001b[0m\u001b[1;33m]\u001b[0m\u001b[1;33m.\u001b[0m\u001b[0mdt\u001b[0m\u001b[1;33m.\u001b[0m\u001b[0mmonth\u001b[0m\u001b[1;33m\u001b[0m\u001b[1;33m\u001b[0m\u001b[0m\n\u001b[0m",
      "\u001b[1;32m~\\Anaconda3\\lib\\site-packages\\pandas\\core\\generic.py\u001b[0m in \u001b[0;36m__getattr__\u001b[1;34m(self, name)\u001b[0m\n\u001b[0;32m   4370\u001b[0m         if (name in self._internal_names_set or name in self._metadata or\n\u001b[0;32m   4371\u001b[0m                 name in self._accessors):\n\u001b[1;32m-> 4372\u001b[1;33m             \u001b[1;32mreturn\u001b[0m \u001b[0mobject\u001b[0m\u001b[1;33m.\u001b[0m\u001b[0m__getattribute__\u001b[0m\u001b[1;33m(\u001b[0m\u001b[0mself\u001b[0m\u001b[1;33m,\u001b[0m \u001b[0mname\u001b[0m\u001b[1;33m)\u001b[0m\u001b[1;33m\u001b[0m\u001b[1;33m\u001b[0m\u001b[0m\n\u001b[0m\u001b[0;32m   4373\u001b[0m         \u001b[1;32melse\u001b[0m\u001b[1;33m:\u001b[0m\u001b[1;33m\u001b[0m\u001b[1;33m\u001b[0m\u001b[0m\n\u001b[0;32m   4374\u001b[0m             \u001b[1;32mif\u001b[0m \u001b[0mself\u001b[0m\u001b[1;33m.\u001b[0m\u001b[0m_info_axis\u001b[0m\u001b[1;33m.\u001b[0m\u001b[0m_can_hold_identifiers_and_holds_name\u001b[0m\u001b[1;33m(\u001b[0m\u001b[0mname\u001b[0m\u001b[1;33m)\u001b[0m\u001b[1;33m:\u001b[0m\u001b[1;33m\u001b[0m\u001b[1;33m\u001b[0m\u001b[0m\n",
      "\u001b[1;32m~\\Anaconda3\\lib\\site-packages\\pandas\\core\\accessor.py\u001b[0m in \u001b[0;36m__get__\u001b[1;34m(self, obj, cls)\u001b[0m\n\u001b[0;32m    131\u001b[0m             \u001b[1;31m# we're accessing the attribute of the class, i.e., Dataset.geo\u001b[0m\u001b[1;33m\u001b[0m\u001b[1;33m\u001b[0m\u001b[1;33m\u001b[0m\u001b[0m\n\u001b[0;32m    132\u001b[0m             \u001b[1;32mreturn\u001b[0m \u001b[0mself\u001b[0m\u001b[1;33m.\u001b[0m\u001b[0m_accessor\u001b[0m\u001b[1;33m\u001b[0m\u001b[1;33m\u001b[0m\u001b[0m\n\u001b[1;32m--> 133\u001b[1;33m         \u001b[0maccessor_obj\u001b[0m \u001b[1;33m=\u001b[0m \u001b[0mself\u001b[0m\u001b[1;33m.\u001b[0m\u001b[0m_accessor\u001b[0m\u001b[1;33m(\u001b[0m\u001b[0mobj\u001b[0m\u001b[1;33m)\u001b[0m\u001b[1;33m\u001b[0m\u001b[1;33m\u001b[0m\u001b[0m\n\u001b[0m\u001b[0;32m    134\u001b[0m         \u001b[1;31m# Replace the property with the accessor object. Inspired by:\u001b[0m\u001b[1;33m\u001b[0m\u001b[1;33m\u001b[0m\u001b[1;33m\u001b[0m\u001b[0m\n\u001b[0;32m    135\u001b[0m         \u001b[1;31m# http://www.pydanny.com/cached-property.html\u001b[0m\u001b[1;33m\u001b[0m\u001b[1;33m\u001b[0m\u001b[1;33m\u001b[0m\u001b[0m\n",
      "\u001b[1;32m~\\Anaconda3\\lib\\site-packages\\pandas\\core\\indexes\\accessors.py\u001b[0m in \u001b[0;36m__new__\u001b[1;34m(cls, data)\u001b[0m\n\u001b[0;32m    323\u001b[0m             \u001b[1;32mpass\u001b[0m  \u001b[1;31m# we raise an attribute error anyway\u001b[0m\u001b[1;33m\u001b[0m\u001b[1;33m\u001b[0m\u001b[0m\n\u001b[0;32m    324\u001b[0m \u001b[1;33m\u001b[0m\u001b[0m\n\u001b[1;32m--> 325\u001b[1;33m         raise AttributeError(\"Can only use .dt accessor with datetimelike \"\n\u001b[0m\u001b[0;32m    326\u001b[0m                              \"values\")\n",
      "\u001b[1;31mAttributeError\u001b[0m: Can only use .dt accessor with datetimelike values"
     ]
    }
   ],
   "source": [
    "df[\"expiry_date\"].dt.month"
   ]
  },
  {
   "cell_type": "code",
   "execution_count": null,
   "metadata": {},
   "outputs": [],
   "source": [
    "sns.regplot(x=df.index, y=\"registration_cost_ether\", data=df)\n",
    "# giving title to the plot\n",
    "plt.title('My first graph');\n",
    "  \n",
    "# function to show plot\n",
    "plt.show()"
   ]
  },
  {
   "cell_type": "code",
   "execution_count": 19,
   "metadata": {},
   "outputs": [
    {
     "data": {
      "text/plain": [
       "Index(['ens_name', 'registration_date', 'registration_cost_ether',\n",
       "       'expiry_date'],\n",
       "      dtype='object')"
      ]
     },
     "execution_count": 19,
     "metadata": {},
     "output_type": "execute_result"
    }
   ],
   "source": [
    "df.columns"
   ]
  },
  {
   "cell_type": "code",
   "execution_count": 16,
   "metadata": {},
   "outputs": [
    {
     "ename": "NameError",
     "evalue": "name 'registration_cost_ether' is not defined",
     "output_type": "error",
     "traceback": [
      "\u001b[1;31m---------------------------------------------------------------------------\u001b[0m",
      "\u001b[1;31mNameError\u001b[0m                                 Traceback (most recent call last)",
      "\u001b[1;32m<ipython-input-16-24325ede75c4>\u001b[0m in \u001b[0;36m<module>\u001b[1;34m\u001b[0m\n\u001b[0;32m      6\u001b[0m     \u001b[1;32mreturn\u001b[0m \u001b[0mdf\u001b[0m\u001b[1;33m.\u001b[0m\u001b[0mnew_col\u001b[0m\u001b[1;33m\u001b[0m\u001b[1;33m\u001b[0m\u001b[0m\n\u001b[0;32m      7\u001b[0m \u001b[1;31m# Z-Score using pandas\u001b[0m\u001b[1;33m\u001b[0m\u001b[1;33m\u001b[0m\u001b[1;33m\u001b[0m\u001b[0m\n\u001b[1;32m----> 8\u001b[1;33m \u001b[0mstandardize_col\u001b[0m\u001b[1;33m(\u001b[0m\u001b[0mregistration_cost_ether\u001b[0m\u001b[1;33m,\u001b[0m \u001b[0mst_registration_cost_ether\u001b[0m\u001b[1;33m,\u001b[0m \u001b[0mdf\u001b[0m\u001b[1;33m)\u001b[0m\u001b[1;33m\u001b[0m\u001b[1;33m\u001b[0m\u001b[0m\n\u001b[0m",
      "\u001b[1;31mNameError\u001b[0m: name 'registration_cost_ether' is not defined"
     ]
    }
   ],
   "source": [
    "df.describe()\n",
    "\n",
    "## sTANdardizing\n",
    "def standardize_col(col, new_col, df):\n",
    "    df.new_col = (df.col - df.col.mean()) / df.col.std()\n",
    "    return df.new_col\n",
    "# Z-Score using pandas\n",
    "standardize_col(registration_cost_ether, st_registration_cost_ether, df)"
   ]
  },
  {
   "cell_type": "code",
   "execution_count": 6,
   "metadata": {},
   "outputs": [
    {
     "name": "stderr",
     "output_type": "stream",
     "text": [
      "C:\\Users\\PC\\Anaconda3\\lib\\site-packages\\seaborn\\distributions.py:2557: FutureWarning: `distplot` is a deprecated function and will be removed in a future version. Please adapt your code to use either `displot` (a figure-level function with similar flexibility) or `histplot` (an axes-level function for histograms).\n",
      "  warnings.warn(msg, FutureWarning)\n"
     ]
    },
    {
     "data": {
      "image/png": "[encoded data removed]",
      "text/plain": [
       "<Figure size 640x480 with 1 Axes>"
      ]
     },
     "metadata": {},
     "output_type": "display_data"
    }
   ],
   "source": [
    "sns.distplot(df.registration_cost_ether, kde=False, color='b')\n",
    "# giving title to the plot\n",
    "plt.title('My first graph');\n",
    "  \n",
    "# function to show plot\n",
    "plt.show()"
   ]
  },
  {
   "cell_type": "code",
   "execution_count": 7,
   "metadata": {
    "scrolled": true
   },
   "outputs": [
    {
     "data": {
      "image/png": "[encoded data removed]",
      "text/plain": [
       "<Figure size 640x480 with 1 Axes>"
      ]
     },
     "metadata": {},
     "output_type": "display_data"
    }
   ],
   "source": [
    "sns.countplot(x=\"registration_cost_ether\", data=df)\n",
    "# giving title to the plot\n",
    "plt.title('My first graph');\n",
    "  \n",
    "# function to show plot\n",
    "plt.show()"
   ]
  },
  {
   "cell_type": "code",
   "execution_count": 8,
   "metadata": {},
   "outputs": [
    {
     "data": {
      "text/plain": [
       "pandas.core.series.Series"
      ]
     },
     "execution_count": 8,
     "metadata": {},
     "output_type": "execute_result"
    }
   ],
   "source": [
    "type(df['registration_date'])"
   ]
  },
  {
   "cell_type": "code",
   "execution_count": 9,
   "metadata": {},
   "outputs": [
    {
     "ename": "NameError",
     "evalue": "name 'dataframe' is not defined",
     "output_type": "error",
     "traceback": [
      "\u001b[1;31m---------------------------------------------------------------------------\u001b[0m",
      "\u001b[1;31mNameError\u001b[0m                                 Traceback (most recent call last)",
      "\u001b[1;32m<ipython-input-9-3e5ce20288a2>\u001b[0m in \u001b[0;36m<module>\u001b[1;34m\u001b[0m\n\u001b[1;32m----> 1\u001b[1;33m \u001b[0mrslt_df\u001b[0m \u001b[1;33m=\u001b[0m \u001b[0mdataframe\u001b[0m\u001b[1;33m[\u001b[0m\u001b[0mdataframe\u001b[0m\u001b[1;33m[\u001b[0m\u001b[1;34m'Percentage'\u001b[0m\u001b[1;33m]\u001b[0m \u001b[1;33m>\u001b[0m \u001b[1;36m70\u001b[0m\u001b[1;33m]\u001b[0m\u001b[1;33m\u001b[0m\u001b[1;33m\u001b[0m\u001b[0m\n\u001b[0m\u001b[0;32m      2\u001b[0m \u001b[1;33m\u001b[0m\u001b[0m\n\u001b[0;32m      3\u001b[0m \u001b[0mprint\u001b[0m\u001b[1;33m(\u001b[0m\u001b[1;34m'\\nResult dataframe :\\n'\u001b[0m\u001b[1;33m,\u001b[0m \u001b[0mrslt_df\u001b[0m\u001b[1;33m)\u001b[0m\u001b[1;33m\u001b[0m\u001b[1;33m\u001b[0m\u001b[0m\n",
      "\u001b[1;31mNameError\u001b[0m: name 'dataframe' is not defined"
     ]
    }
   ],
   "source": [
    "rslt_df = dataframe[dataframe['Percentage'] > 70] \n",
    "    \n",
    "print('\\nResult dataframe :\\n', rslt_df)"
   ]
  },
  {
   "cell_type": "code",
   "execution_count": 10,
   "metadata": {
    "scrolled": true
   },
   "outputs": [
    {
     "ename": "AttributeError",
     "evalue": "Can only use .dt accessor with datetimelike values",
     "output_type": "error",
     "traceback": [
      "\u001b[1;31m---------------------------------------------------------------------------\u001b[0m",
      "\u001b[1;31mAttributeError\u001b[0m                            Traceback (most recent call last)",
      "\u001b[1;32m<ipython-input-10-68bad783f405>\u001b[0m in \u001b[0;36m<module>\u001b[1;34m\u001b[0m\n\u001b[0;32m      1\u001b[0m \u001b[1;31m## Filter dataframe based on month values\u001b[0m\u001b[1;33m\u001b[0m\u001b[1;33m\u001b[0m\u001b[1;33m\u001b[0m\u001b[0m\n\u001b[0;32m      2\u001b[0m \u001b[1;33m\u001b[0m\u001b[0m\n\u001b[1;32m----> 3\u001b[1;33m \u001b[0mdf\u001b[0m\u001b[1;33m[\u001b[0m\u001b[1;33m(\u001b[0m\u001b[0mdf\u001b[0m\u001b[1;33m[\u001b[0m\u001b[1;34m\"expiry_date\"\u001b[0m\u001b[1;33m]\u001b[0m\u001b[1;33m.\u001b[0m\u001b[0mdt\u001b[0m\u001b[1;33m.\u001b[0m\u001b[0myear\u001b[0m \u001b[1;33m==\u001b[0m \u001b[1;36m2024\u001b[0m\u001b[1;33m)\u001b[0m \u001b[1;33m&\u001b[0m \u001b[1;33m(\u001b[0m\u001b[0mdf\u001b[0m\u001b[1;33m[\u001b[0m\u001b[1;34m\"registration_date\"\u001b[0m\u001b[1;33m]\u001b[0m\u001b[1;33m.\u001b[0m\u001b[0mdt\u001b[0m\u001b[1;33m.\u001b[0m\u001b[0mmonth\u001b[0m \u001b[1;33m==\u001b[0m \u001b[1;36m3\u001b[0m\u001b[1;33m)\u001b[0m\u001b[1;33m]\u001b[0m\u001b[1;33m\u001b[0m\u001b[1;33m\u001b[0m\u001b[0m\n\u001b[0m",
      "\u001b[1;32m~\\Anaconda3\\lib\\site-packages\\pandas\\core\\generic.py\u001b[0m in \u001b[0;36m__getattr__\u001b[1;34m(self, name)\u001b[0m\n\u001b[0;32m   4370\u001b[0m         if (name in self._internal_names_set or name in self._metadata or\n\u001b[0;32m   4371\u001b[0m                 name in self._accessors):\n\u001b[1;32m-> 4372\u001b[1;33m             \u001b[1;32mreturn\u001b[0m \u001b[0mobject\u001b[0m\u001b[1;33m.\u001b[0m\u001b[0m__getattribute__\u001b[0m\u001b[1;33m(\u001b[0m\u001b[0mself\u001b[0m\u001b[1;33m,\u001b[0m \u001b[0mname\u001b[0m\u001b[1;33m)\u001b[0m\u001b[1;33m\u001b[0m\u001b[1;33m\u001b[0m\u001b[0m\n\u001b[0m\u001b[0;32m   4373\u001b[0m         \u001b[1;32melse\u001b[0m\u001b[1;33m:\u001b[0m\u001b[1;33m\u001b[0m\u001b[1;33m\u001b[0m\u001b[0m\n\u001b[0;32m   4374\u001b[0m             \u001b[1;32mif\u001b[0m \u001b[0mself\u001b[0m\u001b[1;33m.\u001b[0m\u001b[0m_info_axis\u001b[0m\u001b[1;33m.\u001b[0m\u001b[0m_can_hold_identifiers_and_holds_name\u001b[0m\u001b[1;33m(\u001b[0m\u001b[0mname\u001b[0m\u001b[1;33m)\u001b[0m\u001b[1;33m:\u001b[0m\u001b[1;33m\u001b[0m\u001b[1;33m\u001b[0m\u001b[0m\n",
      "\u001b[1;32m~\\Anaconda3\\lib\\site-packages\\pandas\\core\\accessor.py\u001b[0m in \u001b[0;36m__get__\u001b[1;34m(self, obj, cls)\u001b[0m\n\u001b[0;32m    131\u001b[0m             \u001b[1;31m# we're accessing the attribute of the class, i.e., Dataset.geo\u001b[0m\u001b[1;33m\u001b[0m\u001b[1;33m\u001b[0m\u001b[1;33m\u001b[0m\u001b[0m\n\u001b[0;32m    132\u001b[0m             \u001b[1;32mreturn\u001b[0m \u001b[0mself\u001b[0m\u001b[1;33m.\u001b[0m\u001b[0m_accessor\u001b[0m\u001b[1;33m\u001b[0m\u001b[1;33m\u001b[0m\u001b[0m\n\u001b[1;32m--> 133\u001b[1;33m         \u001b[0maccessor_obj\u001b[0m \u001b[1;33m=\u001b[0m \u001b[0mself\u001b[0m\u001b[1;33m.\u001b[0m\u001b[0m_accessor\u001b[0m\u001b[1;33m(\u001b[0m\u001b[0mobj\u001b[0m\u001b[1;33m)\u001b[0m\u001b[1;33m\u001b[0m\u001b[1;33m\u001b[0m\u001b[0m\n\u001b[0m\u001b[0;32m    134\u001b[0m         \u001b[1;31m# Replace the property with the accessor object. Inspired by:\u001b[0m\u001b[1;33m\u001b[0m\u001b[1;33m\u001b[0m\u001b[1;33m\u001b[0m\u001b[0m\n\u001b[0;32m    135\u001b[0m         \u001b[1;31m# http://www.pydanny.com/cached-property.html\u001b[0m\u001b[1;33m\u001b[0m\u001b[1;33m\u001b[0m\u001b[1;33m\u001b[0m\u001b[0m\n",
      "\u001b[1;32m~\\Anaconda3\\lib\\site-packages\\pandas\\core\\indexes\\accessors.py\u001b[0m in \u001b[0;36m__new__\u001b[1;34m(cls, data)\u001b[0m\n\u001b[0;32m    323\u001b[0m             \u001b[1;32mpass\u001b[0m  \u001b[1;31m# we raise an attribute error anyway\u001b[0m\u001b[1;33m\u001b[0m\u001b[1;33m\u001b[0m\u001b[0m\n\u001b[0;32m    324\u001b[0m \u001b[1;33m\u001b[0m\u001b[0m\n\u001b[1;32m--> 325\u001b[1;33m         raise AttributeError(\"Can only use .dt accessor with datetimelike \"\n\u001b[0m\u001b[0;32m    326\u001b[0m                              \"values\")\n",
      "\u001b[1;31mAttributeError\u001b[0m: Can only use .dt accessor with datetimelike values"
     ]
    }
   ],
   "source": [
    "## Filter dataframe based on month values\n",
    "\n",
    "df[(df[\"expiry_date\"].dt.year == 2024) & (df[\"registration_date\"].dt.month == 3)]"
   ]
  },
  {
   "cell_type": "code",
   "execution_count": 11,
   "metadata": {},
   "outputs": [
    {
     "data": {
      "image/png": "[encoded data removed]",
      "text/plain": [
       "<Figure size 640x480 with 1 Axes>"
      ]
     },
     "metadata": {},
     "output_type": "display_data"
    }
   ],
   "source": [
    "sns.lineplot(x='expiry_date', y='registration_cost_ether', data=df)\n",
    "# giving title to the plot\n",
    "plt.title('My first graph');\n",
    "  \n",
    "# function to show plot\n",
    "plt.show()"
   ]
  },
  {
   "cell_type": "code",
   "execution_count": 12,
   "metadata": {},
   "outputs": [
    {
     "data": {
      "image/png": "[encoded data removed]",
      "text/plain": [
       "<Figure size 640x480 with 1 Axes>"
      ]
     },
     "metadata": {},
     "output_type": "display_data"
    }
   ],
   "source": [
    "sns.lineplot(x='registration_date', y='registration_cost_ether', data=df)\n",
    "# giving title to the plot\n",
    "plt.title('My first graph');\n",
    "  \n",
    "# function to show plot\n",
    "plt.show()"
   ]
  },
  {
   "cell_type": "code",
   "execution_count": null,
   "metadata": {},
   "outputs": [],
   "source": [
    "max(df['expiry_date'].dt.month)"
   ]
  },
  {
   "cell_type": "code",
   "execution_count": 30,
   "metadata": {},
   "outputs": [],
   "source": [
    "df['registration_year'] = df['registration_date'].dt.year\n",
    "df['registration_month'] = df['registration_date'].dt.month\n",
    "df['registration_day'] = df['registration_date'].dt.day\n",
    "df['registration_hour'] = df['registration_date'].dt.hour"
   ]
  },
  {
   "cell_type": "code",
   "execution_count": 35,
   "metadata": {},
   "outputs": [
    {
     "data": {
      "text/plain": [
       "23"
      ]
     },
     "execution_count": 35,
     "metadata": {},
     "output_type": "execute_result"
    }
   ],
   "source": [
    "max(df['registration_hour'])"
   ]
  },
  {
   "cell_type": "code",
   "execution_count": 33,
   "metadata": {},
   "outputs": [
    {
     "data": {
      "text/html": [
       "<div>\n",
       "<style scoped>\n",
       "    .dataframe tbody tr th:only-of-type {\n",
       "        vertical-align: middle;\n",
       "    }\n",
       "\n",
       "    .dataframe tbody tr th {\n",
       "        vertical-align: top;\n",
       "    }\n",
       "\n",
       "    .dataframe thead th {\n",
       "        text-align: right;\n",
       "    }\n",
       "</style>\n",
       "<table border=\"1\" class=\"dataframe\">\n",
       "  <thead>\n",
       "    <tr style=\"text-align: right;\">\n",
       "      <th></th>\n",
       "      <th>0</th>\n",
       "      <th>1</th>\n",
       "      <th>2</th>\n",
       "      <th>3</th>\n",
       "      <th>4</th>\n",
       "    </tr>\n",
       "  </thead>\n",
       "  <tbody>\n",
       "    <tr>\n",
       "      <th>ens_name</th>\n",
       "      <td>yooka.eth</td>\n",
       "      <td>pasealxyz.eth</td>\n",
       "      <td>supermercadonow.eth</td>\n",
       "      <td>gweillionaire.eth</td>\n",
       "      <td>uvlstudios.eth</td>\n",
       "    </tr>\n",
       "    <tr>\n",
       "      <th>registration_date</th>\n",
       "      <td>2023-03-09 09:39:59</td>\n",
       "      <td>2023-03-09 09:39:35</td>\n",
       "      <td>2023-03-09 09:34:59</td>\n",
       "      <td>2023-03-09 09:33:11</td>\n",
       "      <td>2023-03-09 09:32:47</td>\n",
       "    </tr>\n",
       "    <tr>\n",
       "      <th>registration_cost_ether</th>\n",
       "      <td>0.0162808</td>\n",
       "      <td>0.00325616</td>\n",
       "      <td>0.0162808</td>\n",
       "      <td>0.00325616</td>\n",
       "      <td>0.00325616</td>\n",
       "    </tr>\n",
       "    <tr>\n",
       "      <th>expiry_date</th>\n",
       "      <td>2028-03-08 14:45:59</td>\n",
       "      <td>2024-03-08 15:28:47</td>\n",
       "      <td>2028-03-08 14:40:59</td>\n",
       "      <td>2024-03-08 15:22:23</td>\n",
       "      <td>2024-03-08 15:21:59</td>\n",
       "    </tr>\n",
       "    <tr>\n",
       "      <th>year</th>\n",
       "      <td>2023</td>\n",
       "      <td>2023</td>\n",
       "      <td>2023</td>\n",
       "      <td>2023</td>\n",
       "      <td>2023</td>\n",
       "    </tr>\n",
       "    <tr>\n",
       "      <th>registration_year</th>\n",
       "      <td>2023</td>\n",
       "      <td>2023</td>\n",
       "      <td>2023</td>\n",
       "      <td>2023</td>\n",
       "      <td>2023</td>\n",
       "    </tr>\n",
       "    <tr>\n",
       "      <th>registration_month</th>\n",
       "      <td>3</td>\n",
       "      <td>3</td>\n",
       "      <td>3</td>\n",
       "      <td>3</td>\n",
       "      <td>3</td>\n",
       "    </tr>\n",
       "    <tr>\n",
       "      <th>registration_day</th>\n",
       "      <td>9</td>\n",
       "      <td>9</td>\n",
       "      <td>9</td>\n",
       "      <td>9</td>\n",
       "      <td>9</td>\n",
       "    </tr>\n",
       "    <tr>\n",
       "      <th>registration_hour</th>\n",
       "      <td>9</td>\n",
       "      <td>9</td>\n",
       "      <td>9</td>\n",
       "      <td>9</td>\n",
       "      <td>9</td>\n",
       "    </tr>\n",
       "  </tbody>\n",
       "</table>\n",
       "</div>"
      ],
      "text/plain": [
       "                                           0                    1  \\\n",
       "ens_name                           yooka.eth        pasealxyz.eth   \n",
       "registration_date        2023-03-09 09:39:59  2023-03-09 09:39:35   \n",
       "registration_cost_ether            0.0162808           0.00325616   \n",
       "expiry_date              2028-03-08 14:45:59  2024-03-08 15:28:47   \n",
       "year                                    2023                 2023   \n",
       "registration_year                       2023                 2023   \n",
       "registration_month                         3                    3   \n",
       "registration_day                           9                    9   \n",
       "registration_hour                          9                    9   \n",
       "\n",
       "                                           2                    3  \\\n",
       "ens_name                 supermercadonow.eth    gweillionaire.eth   \n",
       "registration_date        2023-03-09 09:34:59  2023-03-09 09:33:11   \n",
       "registration_cost_ether            0.0162808           0.00325616   \n",
       "expiry_date              2028-03-08 14:40:59  2024-03-08 15:22:23   \n",
       "year                                    2023                 2023   \n",
       "registration_year                       2023                 2023   \n",
       "registration_month                         3                    3   \n",
       "registration_day                           9                    9   \n",
       "registration_hour                          9                    9   \n",
       "\n",
       "                                           4  \n",
       "ens_name                      uvlstudios.eth  \n",
       "registration_date        2023-03-09 09:32:47  \n",
       "registration_cost_ether           0.00325616  \n",
       "expiry_date              2024-03-08 15:21:59  \n",
       "year                                    2023  \n",
       "registration_year                       2023  \n",
       "registration_month                         3  \n",
       "registration_day                           9  \n",
       "registration_hour                          9  "
      ]
     },
     "execution_count": 33,
     "metadata": {},
     "output_type": "execute_result"
    }
   ],
   "source": [
    "df.head().T"
   ]
  },
  {
   "cell_type": "code",
   "execution_count": 36,
   "metadata": {},
   "outputs": [],
   "source": [
    "values = (0,1)"
   ]
  },
  {
   "cell_type": "code",
   "execution_count": 48,
   "metadata": {},
   "outputs": [],
   "source": [
    "df['registration_hour'] = pd.DataFrame(df['registration_hour'])"
   ]
  },
  {
   "cell_type": "code",
   "execution_count": 54,
   "metadata": {},
   "outputs": [],
   "source": [
    "from scipy import stats\n",
    "df['st_registration_cost_ether'] = stats.zscore(df['registration_cost_ether'])"
   ]
  },
  {
   "cell_type": "code",
   "execution_count": 55,
   "metadata": {
    "scrolled": true
   },
   "outputs": [
    {
     "data": {
      "text/plain": [
       "pandas.core.frame.DataFrame"
      ]
     },
     "execution_count": 55,
     "metadata": {},
     "output_type": "execute_result"
    }
   ],
   "source": [
    "line_chart_df = df[['registration_hour', 'registration_cost_ether', 'st_registration_cost_ether']]\n",
    "type(line_chart_df)"
   ]
  },
  {
   "cell_type": "code",
   "execution_count": 62,
   "metadata": {},
   "outputs": [
    {
     "data": {
      "text/html": [
       "<div>\n",
       "<style scoped>\n",
       "    .dataframe tbody tr th:only-of-type {\n",
       "        vertical-align: middle;\n",
       "    }\n",
       "\n",
       "    .dataframe tbody tr th {\n",
       "        vertical-align: top;\n",
       "    }\n",
       "\n",
       "    .dataframe thead th {\n",
       "        text-align: right;\n",
       "    }\n",
       "</style>\n",
       "<table border=\"1\" class=\"dataframe\">\n",
       "  <thead>\n",
       "    <tr style=\"text-align: right;\">\n",
       "      <th></th>\n",
       "      <th>ens_name</th>\n",
       "      <th>registration_date</th>\n",
       "      <th>registration_cost_ether</th>\n",
       "      <th>expiry_date</th>\n",
       "      <th>year</th>\n",
       "      <th>registration_year</th>\n",
       "      <th>registration_month</th>\n",
       "      <th>registration_day</th>\n",
       "      <th>registration_hour</th>\n",
       "      <th>st_registration_cost_ether</th>\n",
       "    </tr>\n",
       "  </thead>\n",
       "  <tbody>\n",
       "    <tr>\n",
       "      <th>990</th>\n",
       "      <td>1181.eth</td>\n",
       "      <td>2023-03-08 09:45:11</td>\n",
       "      <td>1.761629</td>\n",
       "      <td>2024-03-07 15:34:23</td>\n",
       "      <td>2023</td>\n",
       "      <td>2023</td>\n",
       "      <td>3</td>\n",
       "      <td>8</td>\n",
       "      <td>9</td>\n",
       "      <td>20.704624</td>\n",
       "    </tr>\n",
       "  </tbody>\n",
       "</table>\n",
       "</div>"
      ],
      "text/plain": [
       "     ens_name   registration_date  registration_cost_ether  \\\n",
       "990  1181.eth 2023-03-08 09:45:11                 1.761629   \n",
       "\n",
       "            expiry_date  year  registration_year  registration_month  \\\n",
       "990 2024-03-07 15:34:23  2023               2023                   3   \n",
       "\n",
       "     registration_day  registration_hour  st_registration_cost_ether  \n",
       "990                 8                  9                   20.704624  "
      ]
     },
     "execution_count": 62,
     "metadata": {},
     "output_type": "execute_result"
    }
   ],
   "source": [
    "curr_df = df.copy()\n",
    "max_rce = max(curr_df['registration_cost_ether'])\n",
    "max_rce_df = curr_df[curr_df['registration_cost_ether'] == max_rce]\n",
    "\n",
    "max_rce_df"
   ]
  },
  {
   "cell_type": "code",
   "execution_count": 58,
   "metadata": {},
   "outputs": [
    {
     "data": {
      "text/html": [
       "<div>\n",
       "<style scoped>\n",
       "    .dataframe tbody tr th:only-of-type {\n",
       "        vertical-align: middle;\n",
       "    }\n",
       "\n",
       "    .dataframe tbody tr th {\n",
       "        vertical-align: top;\n",
       "    }\n",
       "\n",
       "    .dataframe thead th {\n",
       "        text-align: right;\n",
       "    }\n",
       "</style>\n",
       "<table border=\"1\" class=\"dataframe\">\n",
       "  <thead>\n",
       "    <tr style=\"text-align: right;\">\n",
       "      <th></th>\n",
       "      <th>registration_hour</th>\n",
       "      <th>registration_cost_ether</th>\n",
       "      <th>st_registration_cost_ether</th>\n",
       "    </tr>\n",
       "  </thead>\n",
       "  <tbody>\n",
       "    <tr>\n",
       "      <th>290</th>\n",
       "      <td>1</td>\n",
       "      <td>0.003257</td>\n",
       "      <td>-0.174826</td>\n",
       "    </tr>\n",
       "    <tr>\n",
       "      <th>291</th>\n",
       "      <td>1</td>\n",
       "      <td>0.003264</td>\n",
       "      <td>-0.174742</td>\n",
       "    </tr>\n",
       "    <tr>\n",
       "      <th>292</th>\n",
       "      <td>1</td>\n",
       "      <td>0.006529</td>\n",
       "      <td>-0.135981</td>\n",
       "    </tr>\n",
       "    <tr>\n",
       "      <th>293</th>\n",
       "      <td>1</td>\n",
       "      <td>0.032214</td>\n",
       "      <td>0.169019</td>\n",
       "    </tr>\n",
       "    <tr>\n",
       "      <th>294</th>\n",
       "      <td>1</td>\n",
       "      <td>0.032643</td>\n",
       "      <td>0.174104</td>\n",
       "    </tr>\n",
       "    <tr>\n",
       "      <th>295</th>\n",
       "      <td>1</td>\n",
       "      <td>0.016321</td>\n",
       "      <td>-0.019699</td>\n",
       "    </tr>\n",
       "    <tr>\n",
       "      <th>296</th>\n",
       "      <td>1</td>\n",
       "      <td>0.032031</td>\n",
       "      <td>0.166843</td>\n",
       "    </tr>\n",
       "    <tr>\n",
       "      <th>297</th>\n",
       "      <td>1</td>\n",
       "      <td>0.032214</td>\n",
       "      <td>0.169019</td>\n",
       "    </tr>\n",
       "    <tr>\n",
       "      <th>298</th>\n",
       "      <td>1</td>\n",
       "      <td>0.003264</td>\n",
       "      <td>-0.174742</td>\n",
       "    </tr>\n",
       "    <tr>\n",
       "      <th>299</th>\n",
       "      <td>1</td>\n",
       "      <td>0.003264</td>\n",
       "      <td>-0.174742</td>\n",
       "    </tr>\n",
       "    <tr>\n",
       "      <th>300</th>\n",
       "      <td>1</td>\n",
       "      <td>0.003264</td>\n",
       "      <td>-0.174742</td>\n",
       "    </tr>\n",
       "    <tr>\n",
       "      <th>301</th>\n",
       "      <td>1</td>\n",
       "      <td>0.003264</td>\n",
       "      <td>-0.174742</td>\n",
       "    </tr>\n",
       "    <tr>\n",
       "      <th>302</th>\n",
       "      <td>1</td>\n",
       "      <td>0.032643</td>\n",
       "      <td>0.174104</td>\n",
       "    </tr>\n",
       "    <tr>\n",
       "      <th>303</th>\n",
       "      <td>1</td>\n",
       "      <td>0.006529</td>\n",
       "      <td>-0.135981</td>\n",
       "    </tr>\n",
       "    <tr>\n",
       "      <th>304</th>\n",
       "      <td>1</td>\n",
       "      <td>0.003264</td>\n",
       "      <td>-0.174742</td>\n",
       "    </tr>\n",
       "    <tr>\n",
       "      <th>305</th>\n",
       "      <td>1</td>\n",
       "      <td>0.032643</td>\n",
       "      <td>0.174104</td>\n",
       "    </tr>\n",
       "    <tr>\n",
       "      <th>306</th>\n",
       "      <td>1</td>\n",
       "      <td>0.003264</td>\n",
       "      <td>-0.174742</td>\n",
       "    </tr>\n",
       "    <tr>\n",
       "      <th>307</th>\n",
       "      <td>1</td>\n",
       "      <td>0.009793</td>\n",
       "      <td>-0.097221</td>\n",
       "    </tr>\n",
       "    <tr>\n",
       "      <th>308</th>\n",
       "      <td>1</td>\n",
       "      <td>0.003264</td>\n",
       "      <td>-0.174742</td>\n",
       "    </tr>\n",
       "    <tr>\n",
       "      <th>309</th>\n",
       "      <td>1</td>\n",
       "      <td>0.003264</td>\n",
       "      <td>-0.174742</td>\n",
       "    </tr>\n",
       "    <tr>\n",
       "      <th>310</th>\n",
       "      <td>1</td>\n",
       "      <td>0.003264</td>\n",
       "      <td>-0.174742</td>\n",
       "    </tr>\n",
       "    <tr>\n",
       "      <th>311</th>\n",
       "      <td>1</td>\n",
       "      <td>0.003264</td>\n",
       "      <td>-0.174742</td>\n",
       "    </tr>\n",
       "    <tr>\n",
       "      <th>312</th>\n",
       "      <td>1</td>\n",
       "      <td>0.009793</td>\n",
       "      <td>-0.097221</td>\n",
       "    </tr>\n",
       "    <tr>\n",
       "      <th>313</th>\n",
       "      <td>1</td>\n",
       "      <td>0.003264</td>\n",
       "      <td>-0.174742</td>\n",
       "    </tr>\n",
       "    <tr>\n",
       "      <th>314</th>\n",
       "      <td>1</td>\n",
       "      <td>0.003264</td>\n",
       "      <td>-0.174742</td>\n",
       "    </tr>\n",
       "    <tr>\n",
       "      <th>315</th>\n",
       "      <td>1</td>\n",
       "      <td>0.208912</td>\n",
       "      <td>2.267184</td>\n",
       "    </tr>\n",
       "    <tr>\n",
       "      <th>316</th>\n",
       "      <td>1</td>\n",
       "      <td>0.016321</td>\n",
       "      <td>-0.019699</td>\n",
       "    </tr>\n",
       "    <tr>\n",
       "      <th>317</th>\n",
       "      <td>1</td>\n",
       "      <td>0.032643</td>\n",
       "      <td>0.174104</td>\n",
       "    </tr>\n",
       "    <tr>\n",
       "      <th>318</th>\n",
       "      <td>1</td>\n",
       "      <td>0.003264</td>\n",
       "      <td>-0.174742</td>\n",
       "    </tr>\n",
       "    <tr>\n",
       "      <th>319</th>\n",
       "      <td>0</td>\n",
       "      <td>0.016321</td>\n",
       "      <td>-0.019699</td>\n",
       "    </tr>\n",
       "    <tr>\n",
       "      <th>...</th>\n",
       "      <td>...</td>\n",
       "      <td>...</td>\n",
       "      <td>...</td>\n",
       "    </tr>\n",
       "    <tr>\n",
       "      <th>327</th>\n",
       "      <td>0</td>\n",
       "      <td>0.003255</td>\n",
       "      <td>-0.174847</td>\n",
       "    </tr>\n",
       "    <tr>\n",
       "      <th>328</th>\n",
       "      <td>0</td>\n",
       "      <td>0.003255</td>\n",
       "      <td>-0.174847</td>\n",
       "    </tr>\n",
       "    <tr>\n",
       "      <th>329</th>\n",
       "      <td>0</td>\n",
       "      <td>0.003255</td>\n",
       "      <td>-0.174847</td>\n",
       "    </tr>\n",
       "    <tr>\n",
       "      <th>330</th>\n",
       "      <td>0</td>\n",
       "      <td>0.009766</td>\n",
       "      <td>-0.097534</td>\n",
       "    </tr>\n",
       "    <tr>\n",
       "      <th>331</th>\n",
       "      <td>0</td>\n",
       "      <td>0.003255</td>\n",
       "      <td>-0.174847</td>\n",
       "    </tr>\n",
       "    <tr>\n",
       "      <th>332</th>\n",
       "      <td>0</td>\n",
       "      <td>0.003255</td>\n",
       "      <td>-0.174847</td>\n",
       "    </tr>\n",
       "    <tr>\n",
       "      <th>333</th>\n",
       "      <td>0</td>\n",
       "      <td>0.003255</td>\n",
       "      <td>-0.174847</td>\n",
       "    </tr>\n",
       "    <tr>\n",
       "      <th>334</th>\n",
       "      <td>0</td>\n",
       "      <td>0.016277</td>\n",
       "      <td>-0.020222</td>\n",
       "    </tr>\n",
       "    <tr>\n",
       "      <th>335</th>\n",
       "      <td>0</td>\n",
       "      <td>0.003255</td>\n",
       "      <td>-0.174847</td>\n",
       "    </tr>\n",
       "    <tr>\n",
       "      <th>336</th>\n",
       "      <td>0</td>\n",
       "      <td>0.003255</td>\n",
       "      <td>-0.174847</td>\n",
       "    </tr>\n",
       "    <tr>\n",
       "      <th>337</th>\n",
       "      <td>0</td>\n",
       "      <td>0.006511</td>\n",
       "      <td>-0.136190</td>\n",
       "    </tr>\n",
       "    <tr>\n",
       "      <th>338</th>\n",
       "      <td>0</td>\n",
       "      <td>0.003255</td>\n",
       "      <td>-0.174847</td>\n",
       "    </tr>\n",
       "    <tr>\n",
       "      <th>339</th>\n",
       "      <td>0</td>\n",
       "      <td>0.003255</td>\n",
       "      <td>-0.174847</td>\n",
       "    </tr>\n",
       "    <tr>\n",
       "      <th>340</th>\n",
       "      <td>0</td>\n",
       "      <td>0.003255</td>\n",
       "      <td>-0.174847</td>\n",
       "    </tr>\n",
       "    <tr>\n",
       "      <th>341</th>\n",
       "      <td>0</td>\n",
       "      <td>0.009766</td>\n",
       "      <td>-0.097534</td>\n",
       "    </tr>\n",
       "    <tr>\n",
       "      <th>342</th>\n",
       "      <td>0</td>\n",
       "      <td>0.003255</td>\n",
       "      <td>-0.174847</td>\n",
       "    </tr>\n",
       "    <tr>\n",
       "      <th>343</th>\n",
       "      <td>0</td>\n",
       "      <td>0.003255</td>\n",
       "      <td>-0.174847</td>\n",
       "    </tr>\n",
       "    <tr>\n",
       "      <th>344</th>\n",
       "      <td>0</td>\n",
       "      <td>0.003255</td>\n",
       "      <td>-0.174847</td>\n",
       "    </tr>\n",
       "    <tr>\n",
       "      <th>345</th>\n",
       "      <td>0</td>\n",
       "      <td>0.104174</td>\n",
       "      <td>1.023496</td>\n",
       "    </tr>\n",
       "    <tr>\n",
       "      <th>346</th>\n",
       "      <td>0</td>\n",
       "      <td>0.104174</td>\n",
       "      <td>1.023496</td>\n",
       "    </tr>\n",
       "    <tr>\n",
       "      <th>347</th>\n",
       "      <td>0</td>\n",
       "      <td>0.009766</td>\n",
       "      <td>-0.097534</td>\n",
       "    </tr>\n",
       "    <tr>\n",
       "      <th>348</th>\n",
       "      <td>0</td>\n",
       "      <td>0.003255</td>\n",
       "      <td>-0.174847</td>\n",
       "    </tr>\n",
       "    <tr>\n",
       "      <th>349</th>\n",
       "      <td>0</td>\n",
       "      <td>0.003255</td>\n",
       "      <td>-0.174847</td>\n",
       "    </tr>\n",
       "    <tr>\n",
       "      <th>350</th>\n",
       "      <td>0</td>\n",
       "      <td>0.022788</td>\n",
       "      <td>0.057091</td>\n",
       "    </tr>\n",
       "    <tr>\n",
       "      <th>351</th>\n",
       "      <td>0</td>\n",
       "      <td>0.003255</td>\n",
       "      <td>-0.174847</td>\n",
       "    </tr>\n",
       "    <tr>\n",
       "      <th>352</th>\n",
       "      <td>0</td>\n",
       "      <td>0.003255</td>\n",
       "      <td>-0.174847</td>\n",
       "    </tr>\n",
       "    <tr>\n",
       "      <th>353</th>\n",
       "      <td>0</td>\n",
       "      <td>0.009766</td>\n",
       "      <td>-0.097534</td>\n",
       "    </tr>\n",
       "    <tr>\n",
       "      <th>354</th>\n",
       "      <td>0</td>\n",
       "      <td>0.003233</td>\n",
       "      <td>-0.175111</td>\n",
       "    </tr>\n",
       "    <tr>\n",
       "      <th>355</th>\n",
       "      <td>0</td>\n",
       "      <td>0.012933</td>\n",
       "      <td>-0.059935</td>\n",
       "    </tr>\n",
       "    <tr>\n",
       "      <th>356</th>\n",
       "      <td>0</td>\n",
       "      <td>0.009700</td>\n",
       "      <td>-0.098327</td>\n",
       "    </tr>\n",
       "  </tbody>\n",
       "</table>\n",
       "<p>67 rows × 3 columns</p>\n",
       "</div>"
      ],
      "text/plain": [
       "     registration_hour  registration_cost_ether  st_registration_cost_ether\n",
       "290                  1                 0.003257                   -0.174826\n",
       "291                  1                 0.003264                   -0.174742\n",
       "292                  1                 0.006529                   -0.135981\n",
       "293                  1                 0.032214                    0.169019\n",
       "294                  1                 0.032643                    0.174104\n",
       "295                  1                 0.016321                   -0.019699\n",
       "296                  1                 0.032031                    0.166843\n",
       "297                  1                 0.032214                    0.169019\n",
       "298                  1                 0.003264                   -0.174742\n",
       "299                  1                 0.003264                   -0.174742\n",
       "300                  1                 0.003264                   -0.174742\n",
       "301                  1                 0.003264                   -0.174742\n",
       "302                  1                 0.032643                    0.174104\n",
       "303                  1                 0.006529                   -0.135981\n",
       "304                  1                 0.003264                   -0.174742\n",
       "305                  1                 0.032643                    0.174104\n",
       "306                  1                 0.003264                   -0.174742\n",
       "307                  1                 0.009793                   -0.097221\n",
       "308                  1                 0.003264                   -0.174742\n",
       "309                  1                 0.003264                   -0.174742\n",
       "310                  1                 0.003264                   -0.174742\n",
       "311                  1                 0.003264                   -0.174742\n",
       "312                  1                 0.009793                   -0.097221\n",
       "313                  1                 0.003264                   -0.174742\n",
       "314                  1                 0.003264                   -0.174742\n",
       "315                  1                 0.208912                    2.267184\n",
       "316                  1                 0.016321                   -0.019699\n",
       "317                  1                 0.032643                    0.174104\n",
       "318                  1                 0.003264                   -0.174742\n",
       "319                  0                 0.016321                   -0.019699\n",
       "..                 ...                      ...                         ...\n",
       "327                  0                 0.003255                   -0.174847\n",
       "328                  0                 0.003255                   -0.174847\n",
       "329                  0                 0.003255                   -0.174847\n",
       "330                  0                 0.009766                   -0.097534\n",
       "331                  0                 0.003255                   -0.174847\n",
       "332                  0                 0.003255                   -0.174847\n",
       "333                  0                 0.003255                   -0.174847\n",
       "334                  0                 0.016277                   -0.020222\n",
       "335                  0                 0.003255                   -0.174847\n",
       "336                  0                 0.003255                   -0.174847\n",
       "337                  0                 0.006511                   -0.136190\n",
       "338                  0                 0.003255                   -0.174847\n",
       "339                  0                 0.003255                   -0.174847\n",
       "340                  0                 0.003255                   -0.174847\n",
       "341                  0                 0.009766                   -0.097534\n",
       "342                  0                 0.003255                   -0.174847\n",
       "343                  0                 0.003255                   -0.174847\n",
       "344                  0                 0.003255                   -0.174847\n",
       "345                  0                 0.104174                    1.023496\n",
       "346                  0                 0.104174                    1.023496\n",
       "347                  0                 0.009766                   -0.097534\n",
       "348                  0                 0.003255                   -0.174847\n",
       "349                  0                 0.003255                   -0.174847\n",
       "350                  0                 0.022788                    0.057091\n",
       "351                  0                 0.003255                   -0.174847\n",
       "352                  0                 0.003255                   -0.174847\n",
       "353                  0                 0.009766                   -0.097534\n",
       "354                  0                 0.003233                   -0.175111\n",
       "355                  0                 0.012933                   -0.059935\n",
       "356                  0                 0.009700                   -0.098327\n",
       "\n",
       "[67 rows x 3 columns]"
      ]
     },
     "execution_count": 58,
     "metadata": {},
     "output_type": "execute_result"
    }
   ],
   "source": [
    "line_chart_df[(line_chart_df['registration_hour'] == values[0]) | (line_chart_df['registration_hour'] == values[1])]"
   ]
  },
  {
   "cell_type": "code",
   "execution_count": 57,
   "metadata": {},
   "outputs": [
    {
     "data": {
      "text/plain": [
       "pandas.core.series.Series"
      ]
     },
     "execution_count": 57,
     "metadata": {},
     "output_type": "execute_result"
    }
   ],
   "source": [
    "type(line_chart_df['registration_hour'])"
   ]
  },
  {
   "cell_type": "code",
   "execution_count": null,
   "metadata": {},
   "outputs": [],
   "source": [
    "df[df[\"A\",\"B\"].zip.isin(AB_col)]"
   ]
  }
 ],
 "metadata": {
  "kernelspec": {
   "display_name": "Python 3",
   "language": "python",
   "name": "python3"
  },
  "language_info": {
   "codemirror_mode": {
    "name": "ipython",
    "version": 3
   },
   "file_extension": ".py",
   "mimetype": "text/x-python",
   "name": "python",
   "nbconvert_exporter": "python",
   "pygments_lexer": "ipython3",
   "version": "3.7.1"
  }
 },
 "nbformat": 4,
 "nbformat_minor": 5
}
